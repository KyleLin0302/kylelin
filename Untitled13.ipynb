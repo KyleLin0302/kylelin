{
  "nbformat": 4,
  "nbformat_minor": 0,
  "metadata": {
    "colab": {
      "name": "Untitled13.ipynb",
      "provenance": [],
      "authorship_tag": "ABX9TyPcDEZZO69V9YCQD8QtdVA0",
      "include_colab_link": true
    },
    "kernelspec": {
      "name": "python3",
      "display_name": "Python 3"
    },
    "language_info": {
      "name": "python"
    }
  },
  "cells": [
    {
      "cell_type": "markdown",
      "metadata": {
        "id": "view-in-github",
        "colab_type": "text"
      },
      "source": [
        "<a href=\"https://colab.research.google.com/github/KyleLin0302/kylelin/blob/main/Untitled13.ipynb\" target=\"_parent\"><img src=\"https://colab.research.google.com/assets/colab-badge.svg\" alt=\"Open In Colab\"/></a>"
      ]
    },
    {
      "cell_type": "code",
      "execution_count": 2,
      "metadata": {
        "colab": {
          "base_uri": "https://localhost:8080/"
        },
        "id": "__OeZLLBiauC",
        "outputId": "081efd8c-5e7a-4d55-d265-d705fabd07bb"
      },
      "outputs": [
        {
          "output_type": "stream",
          "name": "stdout",
          "text": [
            "3 4 5\n",
            "12\n"
          ]
        }
      ],
      "source": [
        "#a002\n",
        "print(sum(list(map(int,input().split()))))"
      ]
    },
    {
      "cell_type": "code",
      "source": [
        "#d827\n",
        "n = int(input())\n",
        "print((n//12)*50 + (n%12)*5)"
      ],
      "metadata": {
        "colab": {
          "base_uri": "https://localhost:8080/"
        },
        "id": "kjzHm8LXiuFs",
        "outputId": "d887f77b-b556-4cf8-b93b-0e60090fb30e"
      },
      "execution_count": 4,
      "outputs": [
        {
          "output_type": "stream",
          "name": "stdout",
          "text": [
            "11\n",
            "55\n"
          ]
        }
      ]
    },
    {
      "cell_type": "code",
      "source": [
        "#a003\n",
        "M,D = map(int,input().split())\n",
        "S=(M*2+D)%3\n",
        "if S == 0:\n",
        "    print(\"普通\")\n",
        "elif S == 1:\n",
        "    print(\"吉\")\n",
        "else:\n",
        "    print(\"大吉\")"
      ],
      "metadata": {
        "id": "4_FGoIV7jQv9"
      },
      "execution_count": null,
      "outputs": []
    },
    {
      "cell_type": "code",
      "source": [
        "#d065\n",
        "print(max(list(map(int,input().split()))))"
      ],
      "metadata": {
        "colab": {
          "base_uri": "https://localhost:8080/"
        },
        "id": "r-Qt7GWwjT8j",
        "outputId": "338276be-0855-4576-d269-5978e4dde85e"
      },
      "execution_count": 6,
      "outputs": [
        {
          "output_type": "stream",
          "name": "stdout",
          "text": [
            "3 56 21\n",
            "56\n"
          ]
        }
      ]
    },
    {
      "cell_type": "code",
      "source": [
        "#d058 不用if的寫法\n",
        "n = int(input())\n",
        "try:\n",
        "    print(n//abs(n))\n",
        "except:\n",
        "    print(0)"
      ],
      "metadata": {
        "colab": {
          "base_uri": "https://localhost:8080/"
        },
        "id": "nTTRH_TIjeRw",
        "outputId": "fc5a09cf-f310-45d2-eef5-628fa3e25a0c"
      },
      "execution_count": 11,
      "outputs": [
        {
          "output_type": "stream",
          "name": "stdout",
          "text": [
            "0\n",
            "1\n"
          ]
        }
      ]
    },
    {
      "cell_type": "code",
      "source": [
        "#d058 用if的寫法\n",
        "n = int(input())\n",
        "if n > 0:\n",
        "    print(1)\n",
        "elif n < 0:\n",
        "    print(-1)\n",
        "else:\n",
        "    print(0)"
      ],
      "metadata": {
        "colab": {
          "base_uri": "https://localhost:8080/"
        },
        "id": "ueP7LYvmlRq6",
        "outputId": "01bfc26d-41c4-4460-b6ec-744f2a2697bd"
      },
      "execution_count": 13,
      "outputs": [
        {
          "output_type": "stream",
          "name": "stdout",
          "text": [
            "0\n",
            "0\n"
          ]
        }
      ]
    },
    {
      "cell_type": "code",
      "source": [
        "#d072\n",
        "for _ in range(int(input())):\n",
        "    n = int(input())\n",
        "    if n % 4 == 0:\n",
        "        if n % 100 != 0:\n",
        "            print(f\"Case {_ + 1}: a leap year\")\n",
        "        elif n % 400 == 0:\n",
        "            print(f\"Case {_ + 1}: a leap year\")\n",
        "        else:\n",
        "            print(f\"Case {_ + 1}: a normal year\")\n",
        "    else:\n",
        "        print(f\"Case {_ + 1}: a normal year\")"
      ],
      "metadata": {
        "id": "g317wdGclUsd"
      },
      "execution_count": null,
      "outputs": []
    },
    {
      "cell_type": "code",
      "source": [
        "#e968\n",
        "l=[]\n",
        "n = int(input())\n",
        "a,b,c=map(int,input().split())\n",
        "for i in range(n,0,-1):\n",
        "    l.append(i)\n",
        "l.remove(a);l.remove(b);l.remove(c);\n",
        "for i in l:\n",
        "    print(f\"No. {i}\")"
      ],
      "metadata": {
        "colab": {
          "base_uri": "https://localhost:8080/"
        },
        "id": "ovpmC2l7oheF",
        "outputId": "b4f6309c-e180-4fe4-8d88-aea8e5a16404"
      },
      "execution_count": 17,
      "outputs": [
        {
          "output_type": "stream",
          "name": "stdout",
          "text": [
            "5\n",
            "2 3 4\n",
            "[5, 1]\n"
          ]
        }
      ]
    }
  ]
}